{
 "cells": [
  {
   "cell_type": "code",
   "execution_count": 12,
   "metadata": {},
   "outputs": [],
   "source": [
    "class Laberinto:\n",
    "    def __init__(self,nombreArchivoLaberinto):\n",
    "        columnasEnLaberinto = 0\n",
    "        self.listaLaberinto = []\n",
    "        archivoLaberinto = open(nombreArchivoLaberinto,'r')\n",
    "        filasEnLaberinto = 0\n",
    "        for linea in archivoLaberinto:\n",
    "            listaFila = []\n",
    "            columna = 0\n",
    "            for caracter in linea[:-1]:\n",
    "                listaFila.append(caracter)\n",
    "                if caracter == '0':\n",
    "                    self.filaInicio = filasEnLaberinto\n",
    "                    self.columnaInicio = columna\n",
    "                if caracter == 'X':\n",
    "                    self.filaSalida = filasEnLaberinto\n",
    "                    self.columnaSalida = columna\n",
    "                columna = columna + 1\n",
    "            filasEnLaberinto = filasEnLaberinto + 1\n",
    "            self.listaLaberinto.append(listaFila)\n",
    "            columnasEnLaberinto = len(listaFila)\n",
    "\n",
    "        self.filasEnLaberinto = filasEnLaberinto\n",
    "        self.columnasEnLaberinto = columnasEnLaberinto\n",
    "    def mostrar_laberinto(self):\n",
    "        nlista=[]\n",
    "        for linea in self.listaLaberinto:\n",
    "            nlista.append(''.join(linea))\n",
    "        print('\\n'.join(nlista))"
   ]
  },
  {
   "cell_type": "code",
   "execution_count": 13,
   "metadata": {},
   "outputs": [],
   "source": [
    "laberinto=Laberinto('laberinto_obj.txt')"
   ]
  },
  {
   "cell_type": "code",
   "execution_count": 14,
   "metadata": {},
   "outputs": [
    {
     "name": "stdout",
     "output_type": "stream",
     "text": [
      "++++++++++++++++++++++\n",
      "+ O +   ++ ++        +\n",
      "+     +     +++++++ ++\n",
      "+ +    ++  ++++ +++ ++\n",
      "+ +   + + ++         +\n",
      "+          ++  ++  + +\n",
      "+++++ + +      ++  + +\n",
      "+++++ +++  + +  ++   +\n",
      "+          + +  + +  +\n",
      "+++++ +  + + +     X +\n",
      "++++++++++++++++++++++\n"
     ]
    }
   ],
   "source": [
    "laberinto.mostrar_laberinto()"
   ]
  }
 ],
 "metadata": {
  "kernelspec": {
   "display_name": "Python 3",
   "language": "python",
   "name": "python3"
  },
  "language_info": {
   "codemirror_mode": {
    "name": "ipython",
    "version": 3
   },
   "file_extension": ".py",
   "mimetype": "text/x-python",
   "name": "python",
   "nbconvert_exporter": "python",
   "pygments_lexer": "ipython3",
   "version": "3.12.2"
  }
 },
 "nbformat": 4,
 "nbformat_minor": 2
}
