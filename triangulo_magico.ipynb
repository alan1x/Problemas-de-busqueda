{
 "cells": [
  {
   "cell_type": "code",
   "execution_count": 3,
   "metadata": {},
   "outputs": [],
   "source": [
    "from collections import deque"
   ]
  },
  {
   "cell_type": "code",
   "execution_count": null,
   "metadata": {},
   "outputs": [],
   "source": [
    "class triangulomagico:\n",
    "    def __init__(self,nodos=None,numeros=None):\n",
    "        if nodos is not None:\n",
    "            self.nodos= nodos\n",
    "        else:\n",
    "            self.nodos= [None,None,None,None,None,None]\n",
    "        if numeros is not None:\n",
    "            self.numeros= numeros\n",
    "        else:\n",
    "            self.numeros= [1,2,3,4,5,6]\n",
    "    def update_state(self):\n",
    "        estado=[]\n",
    "        for i in range(len(self.nodos)):\n",
    "            if self.nodos[i]==None:\n",
    "                for x in self.numeros:\n",
    "                    nnodos=self.nodos.copy()\n",
    "                    nnumeros=self.numeros.copy()\n",
    "                    nnodos[i]=x\n",
    "                    nnumeros.remove(x)\n",
    "                    estado.append(triangulomagico(nnodos,nnumeros))\n",
    "                break\n",
    "        return estado\n",
    "    def __str__(self):\n",
    "        if None in self.nodos:\n",
    "            return \"Error\" \n",
    "        x1, x2, x3, x4, x5, x6 = self.nodos\n",
    "        return f\"  {x1}\\n {x2} {x3}\\n{x4} {x5} {x6}\"\n",
    "\n",
    "    def goal_test(self):\n",
    "        if None in self.nodos:\n",
    "            return False\n",
    "        x1,x2,x3,x4,x5,x6=self.nodos\n",
    "        if (x1+x2+x4==10) and (x1+x3+x6==10) and (x4+x5+x6==10):\n",
    "                return True\n",
    "        return False\n",
    "    def bfs(self):\n",
    "        s0=triangulomagico()\n",
    "        cola = deque([s0])\n",
    "        visitados = set()\n",
    "\n",
    "        while cola:\n",
    "            estado = cola.popleft()\n",
    "            if estado in visitados:\n",
    "                continue\n",
    "            visitados.add(estado)\n",
    "\n",
    "            if estado.goal_test():\n",
    "                return estado\n",
    "\n",
    "            sucesores = estado.update_state()\n",
    "            cola.extend(sucesores)\n",
    "        return None\n",
    "    def dfs(self):\n",
    "        s0=triangulomagico()\n",
    "        cola = [s0]\n",
    "        visitados = set()\n",
    "        while cola:\n",
    "            estado = cola.pop()\n",
    "            if estado in visitados:\n",
    "                continue\n",
    "            visitados.add(estado)   \n",
    "            if estado.goal_test():\n",
    "                return estado\n",
    "            sucesores = estado.update_state()\n",
    "            cola.extend(sucesores)\n",
    "\n"
   ]
  },
  {
   "cell_type": "code",
   "execution_count": 17,
   "metadata": {},
   "outputs": [
    {
     "name": "stdout",
     "output_type": "stream",
     "text": [
      "  1\n",
      " 4 6\n",
      "5 2 3\n",
      "  5\n",
      " 4 2\n",
      "1 6 3\n"
     ]
    }
   ],
   "source": [
    "solucion=triangulomagico()\n",
    "print(solucion.bfs())\n",
    "print(solucion.dfs())\n"
   ]
  }
 ],
 "metadata": {
  "kernelspec": {
   "display_name": "Python 3",
   "language": "python",
   "name": "python3"
  },
  "language_info": {
   "codemirror_mode": {
    "name": "ipython",
    "version": 3
   },
   "file_extension": ".py",
   "mimetype": "text/x-python",
   "name": "python",
   "nbconvert_exporter": "python",
   "pygments_lexer": "ipython3",
   "version": "3.12.8"
  }
 },
 "nbformat": 4,
 "nbformat_minor": 2
}
