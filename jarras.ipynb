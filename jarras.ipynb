{
 "cells": [
  {
   "cell_type": "code",
   "execution_count": 7,
   "metadata": {},
   "outputs": [],
   "source": [
    "from collections import deque"
   ]
  },
  {
   "cell_type": "code",
   "execution_count": null,
   "metadata": {},
   "outputs": [],
   "source": [
    "class jarras:\n",
    "    def __init__(self, nodos=None):\n",
    "        self.cap = [8,5,3]\n",
    "        if nodos is not None:\n",
    "            self.nodos= nodos\n",
    "        else:\n",
    "            self.nodos = [8,0,0]\n",
    "    def __str__(self):\n",
    "        return str(self.nodos)\n",
    "    def goal_test(self):\n",
    "        x1,x2,x3=self.nodos\n",
    "        if (x1==4 or x2==4 ) and (x1<=self.cap[0] and x2<=self.cap[1] and x3<=self.cap[2]) and (x1+x2+x3==8) and(x1==x2):\n",
    "                return True\n",
    "        return False\n",
    "    def update_state(self):\n",
    "        estados = []\n",
    "        x1,x2,x3=self.nodos\n",
    "        if x1 > 0 and x2 < self.cap[1]:\n",
    "            litros = self.cap[1] - x2\n",
    "            estados.append([x1-litros,x2+litros,x3])\n",
    "        if x1 > 0 and x3 < self.cap[2]:\n",
    "            litros = self.cap[2] - x3\n",
    "            estados.append([x1-litros,x2,x3+litros])\n",
    "        if x2 > 0 and x1 < self.cap[0]:\n",
    "            litros = min(x2, self.cap[0] - x1)\n",
    "            estados.append([x1+litros,x2-litros,x3])\n",
    "        if x2 > 0 and x3 < self.cap[2]:   \n",
    "            litros = self.cap[2] - x3\n",
    "            estados.append([x1,x2-litros,x3+litros])\n",
    "        if x3 > 0 and x1 < self.cap[0]:\n",
    "            litros = min(x3, self.cap[0] - x1)\n",
    "            estados.append([x1+litros,x2,x3-litros])\n",
    "        if x3 > 0 and x2 < self.cap[1]:\n",
    "            litros = min(x3, self.cap[1] - x2)\n",
    "            estados.append([x1,x2+litros,x3-litros])\n",
    "        return estados\n",
    "    def bfs(self):\n",
    "        cola = deque([(self, [])])\n",
    "        visitados = set([tuple(self.nodos)])\n",
    "        while cola:\n",
    "            estado, path = cola.popleft()\n",
    "            if estado.goal_test():\n",
    "                return path + [estado]\n",
    "            for estados in estado.update_state():\n",
    "                nestado=jarras(estados)\n",
    "                if tuple(nestado.nodos) not in visitados:\n",
    "                    visitados.add(tuple(nestado.nodos))\n",
    "                    cola.append((nestado, path + [estado]))        \n",
    "        return None"
   ]
  },
  {
   "cell_type": "code",
   "execution_count": 10,
   "metadata": {},
   "outputs": [
    {
     "name": "stdout",
     "output_type": "stream",
     "text": [
      "[8, 0, 0]\n",
      "[5, 0, 3]\n",
      "[5, 3, 0]\n",
      "[2, 3, 3]\n",
      "[2, 5, 1]\n",
      "[7, 0, 1]\n",
      "[7, 1, 0]\n",
      "[4, 1, 3]\n",
      "[4, 4, 0]\n"
     ]
    }
   ],
   "source": [
    "x=jarras()\n",
    "res=x.bfs()\n",
    "for x in res:\n",
    "    print(x)\n"
   ]
  }
 ],
 "metadata": {
  "kernelspec": {
   "display_name": "Python 3",
   "language": "python",
   "name": "python3"
  },
  "language_info": {
   "codemirror_mode": {
    "name": "ipython",
    "version": 3
   },
   "file_extension": ".py",
   "mimetype": "text/x-python",
   "name": "python",
   "nbconvert_exporter": "python",
   "pygments_lexer": "ipython3",
   "version": "3.12.2"
  }
 },
 "nbformat": 4,
 "nbformat_minor": 2
}
